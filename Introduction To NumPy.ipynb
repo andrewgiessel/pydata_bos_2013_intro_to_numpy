{
 "metadata": {
  "name": "Introduction To NumPy"
 },
 "nbformat": 3,
 "nbformat_minor": 0,
 "worksheets": [
  {
   "cells": [
    {
     "cell_type": "code",
     "collapsed": false,
     "input": [
      "%pylab inline \n",
      "# shouldn't be needed if you started the server with `ipython notebook --pylab inline` but otherwise..."
     ],
     "language": "python",
     "metadata": {},
     "outputs": [
      {
       "output_type": "stream",
       "stream": "stdout",
       "text": [
        "\n",
        "Welcome to pylab, a matplotlib-based Python environment [backend: module://IPython.zmq.pylab.backend_inline].\n",
        "For more information, type 'help(pylab)'.\n"
       ]
      }
     ],
     "prompt_number": 8
    },
    {
     "cell_type": "code",
     "collapsed": false,
     "input": [
      "import matplotlib.pyplot as plt\n",
      "import scipy as scipy"
     ],
     "language": "python",
     "metadata": {},
     "outputs": [],
     "prompt_number": 10
    },
    {
     "cell_type": "heading",
     "level": 1,
     "metadata": {},
     "source": [
      "Introduction and basics"
     ]
    },
    {
     "cell_type": "heading",
     "level": 3,
     "metadata": {},
     "source": [
      "Who am I?"
     ]
    },
    {
     "cell_type": "markdown",
     "metadata": {},
     "source": [
      "####Contact Info  \n",
      "  \n",
      "<br>\n",
      "* Andrew Giessel  \n",
      "* twitter: <a href='http://twitter.com/giessel'>@giessel</a>  \n",
      "* github:  <a href='http://github.com/andrewgiessel'>@andrewgiessel</a>  \n",
      "* email:   andrew_giessel@hms.harvard.edu  \n",
      "* web:     http://giessel.com  \n",
      "  \n",
      "Postdoctoral fellow at HMS, Datta Lab, http://dattalab.org\n",
      "\n",
      "Plug:  See my talk tomorrow!"
     ]
    },
    {
     "cell_type": "heading",
     "level": 4,
     "metadata": {},
     "source": [
      "What do I use NumPy for?"
     ]
    },
    {
     "cell_type": "markdown",
     "metadata": {},
     "source": [
      "* images and image series  \n",
      "\n",
      "<img src='files/neurons.tiff', height='512'>  \n",
      "  \n",
      "\n",
      "* electrophysiology data  \n",
      "\n",
      "INSERT TRACE HERE  \n",
      "  \n",
      "  \n",
      "* data analysis  \n",
      "<img src='files/marked_neurons.png', width='512'><img src='files/IAA_pca.png', width='512')  \n",
      "\n",
      "* simultations  \n",
      "ODE/PDE models and their data"
     ]
    },
    {
     "cell_type": "heading",
     "level": 3,
     "metadata": {},
     "source": [
      "Core data structure:  np.ndarray"
     ]
    },
    {
     "cell_type": "markdown",
     "metadata": {},
     "source": [
      "* contigious block of memory which stores a collection of data (generally numeric)\n",
      "  * compact memory representation--- not a list of pointers to python objects (ints)\n",
      "\n",
      "<img src=\"files/linear_memory.png\">\n",
      "\n",
      "* each element of the collection has the same data type (signed integer, floats, unsigned integers, booleans)\n",
      "* array is a python object which is a *view* on this section of memory\n",
      "\n",
      "<img src=\"files/ndarray.png\">\n",
      "\n",
      "* Attributes\n",
      "  * data - memory location\n",
      "  * shape - size of each dimension (3,3)\n",
      "  * strides - how to move in memory for each dimension (row to row, column to column) (3, 1)\n",
      "  * dtype - data type of the elements - affects the size of the stride and the shape"
     ]
    },
    {
     "cell_type": "markdown",
     "metadata": {},
     "source": [
      "* The ndarray object allows for different views (sub sections, reshaping, transposition, etc) without actually changing anything in memory- just the interpretation of the stored memory changes.\n",
      "\n",
      "* All interfaces with this data structure are written in C and accessing/modifying the data structures are therefore **fast**"
     ]
    },
    {
     "cell_type": "heading",
     "level": 3,
     "metadata": {},
     "source": [
      "Array construction"
     ]
    },
    {
     "cell_type": "code",
     "collapsed": false,
     "input": [
      "import numpy as np"
     ],
     "language": "python",
     "metadata": {},
     "outputs": [],
     "prompt_number": 14
    },
    {
     "cell_type": "code",
     "collapsed": false,
     "input": [
      "# np.array() - takes a list or tuple and makes an array.  core creation function\n",
      "a = np.array([1, 2, 3, 4, 5])\n",
      "a"
     ],
     "language": "python",
     "metadata": {},
     "outputs": [
      {
       "output_type": "pyout",
       "prompt_number": 30,
       "text": [
        "array([1, 2, 3, 4, 5])"
       ]
      }
     ],
     "prompt_number": 30
    },
    {
     "cell_type": "code",
     "collapsed": false,
     "input": [
      "b = np.array([[5.,6.,7.],[8.,9.,10.]])\n",
      "print b"
     ],
     "language": "python",
     "metadata": {},
     "outputs": [
      {
       "output_type": "stream",
       "stream": "stdout",
       "text": [
        "[[  5.   6.   7.]\n",
        " [  8.   9.  10.]]\n"
       ]
      }
     ],
     "prompt_number": 17
    },
    {
     "cell_type": "code",
     "collapsed": false,
     "input": [
      "plt.figure()\n",
      "plt.plot(a, 'o', ls='')\n",
      "\n",
      "plt.figure()\n",
      "plt.imshow(b)\n",
      "plt.colorbar()"
     ],
     "language": "python",
     "metadata": {},
     "outputs": [
      {
       "output_type": "pyout",
       "prompt_number": 23,
       "text": [
        "<matplotlib.colorbar.Colorbar instance at 0x111e5e200>"
       ]
      },
      {
       "output_type": "display_data",
       "png": "[encoded data removed]"
      },
      {
       "output_type": "display_data",
       "png": "[encoded data removed]"
      }
     ],
     "prompt_number": 23
    },
    {
     "cell_type": "code",
     "collapsed": false,
     "input": [
      "# np.arange - works like range()\n",
      "np.arange(5)"
     ],
     "language": "python",
     "metadata": {},
     "outputs": [
      {
       "output_type": "pyout",
       "prompt_number": 26,
       "text": [
        "array([0, 1, 2, 3, 4])"
       ]
      }
     ],
     "prompt_number": 26
    },
    {
     "cell_type": "code",
     "collapsed": false,
     "input": [
      "np.arange(2,30,4) # 2 to 30, every 4th value"
     ],
     "language": "python",
     "metadata": {},
     "outputs": [
      {
       "output_type": "pyout",
       "prompt_number": 27,
       "text": [
        "array([ 2,  6, 10, 14, 18, 22, 26])"
       ]
      }
     ],
     "prompt_number": 27
    },
    {
     "cell_type": "code",
     "collapsed": false,
     "input": [
      "# zeros, ones, empty - take a tuple, each entry is the size in that dimension\n",
      "qwer = np.zeros((4,10))\n",
      "asdf = np.ones((15,2))\n",
      "zxcv = np.empty((5))\n",
      "qwer, asdf, zxcv"
     ],
     "language": "python",
     "metadata": {},
     "outputs": [
      {
       "output_type": "pyout",
       "prompt_number": 35,
       "text": [
        "(array([[ 0.,  0.,  0.,  0.,  0.,  0.,  0.,  0.,  0.,  0.],\n",
        "       [ 0.,  0.,  0.,  0.,  0.,  0.,  0.,  0.,  0.,  0.],\n",
        "       [ 0.,  0.,  0.,  0.,  0.,  0.,  0.,  0.,  0.,  0.],\n",
        "       [ 0.,  0.,  0.,  0.,  0.,  0.,  0.,  0.,  0.,  0.]]),\n",
        " array([[ 1.,  1.],\n",
        "       [ 1.,  1.],\n",
        "       [ 1.,  1.],\n",
        "       [ 1.,  1.],\n",
        "       [ 1.,  1.],\n",
        "       [ 1.,  1.],\n",
        "       [ 1.,  1.],\n",
        "       [ 1.,  1.],\n",
        "       [ 1.,  1.],\n",
        "       [ 1.,  1.],\n",
        "       [ 1.,  1.],\n",
        "       [ 1.,  1.],\n",
        "       [ 1.,  1.],\n",
        "       [ 1.,  1.],\n",
        "       [ 1.,  1.]]),\n",
        " array([ -2.31584178e+077,  -2.00000013e+000,   2.12274051e-314,\n",
        "         2.27094275e-314,   2.13292407e-314]))"
       ]
      }
     ],
     "prompt_number": 35
    },
    {
     "cell_type": "code",
     "collapsed": false,
     "input": [
      "# zeros_like(), ones_like(), empty_like() - take their shape from what you pass in\n",
      "qwer2 = ones_like(qwer)\n",
      "qwer, qwer2"
     ],
     "language": "python",
     "metadata": {},
     "outputs": [
      {
       "output_type": "pyout",
       "prompt_number": 38,
       "text": [
        "(array([[ 0.,  0.,  0.,  0.,  0.,  0.,  0.,  0.,  0.,  0.],\n",
        "       [ 0.,  0.,  0.,  0.,  0.,  0.,  0.,  0.,  0.,  0.],\n",
        "       [ 0.,  0.,  0.,  0.,  0.,  0.,  0.,  0.,  0.,  0.],\n",
        "       [ 0.,  0.,  0.,  0.,  0.,  0.,  0.,  0.,  0.,  0.]]),\n",
        " array([[ 1.,  1.,  1.,  1.,  1.,  1.,  1.,  1.,  1.,  1.],\n",
        "       [ 1.,  1.,  1.,  1.,  1.,  1.,  1.,  1.,  1.,  1.],\n",
        "       [ 1.,  1.,  1.,  1.,  1.,  1.,  1.,  1.,  1.,  1.],\n",
        "       [ 1.,  1.,  1.,  1.,  1.,  1.,  1.,  1.,  1.,  1.]]))"
       ]
      }
     ],
     "prompt_number": 38
    },
    {
     "cell_type": "code",
     "collapsed": false,
     "input": [],
     "language": "python",
     "metadata": {},
     "outputs": []
    }
   ],
   "metadata": {}
  }
 ]
}