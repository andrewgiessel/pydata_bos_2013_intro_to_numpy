{
 "metadata": {
  "name": "Introduction To NumPy"
 },
 "nbformat": 3,
 "nbformat_minor": 0,
 "worksheets": [
  {
   "cells": [
    {
     "cell_type": "code",
     "collapsed": false,
     "input": [
      "%pylab inline"
     ],
     "language": "python",
     "metadata": {},
     "outputs": [
      {
       "output_type": "stream",
       "stream": "stdout",
       "text": [
        "\n",
        "Welcome to pylab, a matplotlib-based Python environment [backend: module://IPython.zmq.pylab.backend_inline].\n",
        "For more information, type 'help(pylab)'.\n"
       ]
      }
     ],
     "prompt_number": 1
    },
    {
     "cell_type": "code",
     "collapsed": false,
     "input": [
      "import numpy as np\n",
      "import matplotlib.pyplot as plt\n",
      "import scipy as scipy"
     ],
     "language": "python",
     "metadata": {},
     "outputs": [],
     "prompt_number": 6
    },
    {
     "cell_type": "heading",
     "level": 1,
     "metadata": {},
     "source": [
      "Introduction and basics"
     ]
    },
    {
     "cell_type": "heading",
     "level": 3,
     "metadata": {},
     "source": [
      "Who am I?"
     ]
    },
    {
     "cell_type": "markdown",
     "metadata": {},
     "source": [
      "####Contact Info  \n",
      "  \n",
      "<br>\n",
      "* Andrew Giessel  \n",
      "* twitter: <a href='http://twitter.com/giessel'>@giessel</a>  \n",
      "* github:  <a href='http://github.com/andrewgiessel'>@andrewgiessel</a>  \n",
      "* email:   andrew_giessel@hms.harvard.edu  \n",
      "* web:     http://giessel.com  \n",
      "  \n",
      "Postdoctoral fellow at HMS, Datta Lab, http://dattalab.org\n",
      "\n",
      "Plug:  See my talk tomorrow!"
     ]
    },
    {
     "cell_type": "heading",
     "level": 4,
     "metadata": {},
     "source": [
      "What do I use NumPy for?"
     ]
    },
    {
     "cell_type": "markdown",
     "metadata": {},
     "source": [
      "* images and image series  \n",
      "\n",
      "<img src='files/neurons.tiff', height='512'>  \n",
      "  \n",
      "\n",
      "* electrophysiology data  \n",
      "\n",
      "INSERT TRACE HERE  \n",
      "  \n",
      "  \n",
      "* extracted analysis  \n",
      "<img src='files/marked_neurons.png'>"
     ]
    },
    {
     "cell_type": "heading",
     "level": 3,
     "metadata": {},
     "source": [
      "Core data structure:  np.ndarray"
     ]
    },
    {
     "cell_type": "markdown",
     "metadata": {},
     "source": [
      "* contigious block of memory which stores a collection of data (generally numeric)\n",
      "  * compact memory representation--- not a list of pointers to python objects (ints)\n",
      "\n",
      "<img src=\"files/linear_memory.png\">\n",
      "\n",
      "* each element of the collection has the same data type (signed integer, floats, unsigned integers, booleans)\n",
      "* array is a python object which is a *view* on this section of memory\n",
      "\n",
      "<img src=\"files/ndarray.png\">\n",
      "\n",
      "* Attributes\n",
      "  * data - memory location\n",
      "  * shape - size of each dimension (3,3)\n",
      "  * strides - how to move in memory for each dimension (row to row, column to column) (3, 1)\n",
      "  * dtype - data type of the elements - affects the size of the stride and the shape"
     ]
    },
    {
     "cell_type": "markdown",
     "metadata": {},
     "source": [
      "* The ndarray object allows for different views (sub sections, reshaping, transposition, etc) without actually changing anything in memory- just the interpretation of the stored memory changes.\n",
      "\n",
      "* All interfaces with this data structure are written in C and accessing/modifying the data structures are therefore **fast**"
     ]
    },
    {
     "cell_type": "code",
     "collapsed": false,
     "input": [],
     "language": "python",
     "metadata": {},
     "outputs": []
    }
   ],
   "metadata": {}
  }
 ]
}