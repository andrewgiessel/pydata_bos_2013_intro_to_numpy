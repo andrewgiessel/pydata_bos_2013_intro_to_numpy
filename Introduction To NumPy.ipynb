{
 "metadata": {
  "name": "Introduction To NumPy"
 },
 "nbformat": 3,
 "nbformat_minor": 0,
 "worksheets": [
  {
   "cells": [
    {
     "cell_type": "code",
     "collapsed": false,
     "input": [
      "%pylab inline \n",
      "# shouldn't be needed if you started the server with `ipython notebook --pylab inline` but otherwise..."
     ],
     "language": "python",
     "metadata": {},
     "outputs": [
      {
       "output_type": "stream",
       "stream": "stdout",
       "text": [
        "\n",
        "Welcome to pylab, a matplotlib-based Python environment [backend: module://IPython.zmq.pylab.backend_inline].\n",
        "For more information, type 'help(pylab)'.\n"
       ]
      }
     ],
     "prompt_number": 8
    },
    {
     "cell_type": "code",
     "collapsed": false,
     "input": [
      "import matplotlib.pyplot as plt\n",
      "import scipy as scipy"
     ],
     "language": "python",
     "metadata": {},
     "outputs": [],
     "prompt_number": 10
    },
    {
     "cell_type": "heading",
     "level": 2,
     "metadata": {},
     "source": [
      "0. Introduction and basics"
     ]
    },
    {
     "cell_type": "heading",
     "level": 3,
     "metadata": {},
     "source": [
      "Who am I?"
     ]
    },
    {
     "cell_type": "markdown",
     "metadata": {},
     "source": [
      "####Contact Info  \n",
      "  \n",
      "<br>\n",
      "* Andrew Giessel  \n",
      "* twitter: <a href='http://twitter.com/giessel'>@giessel</a>  \n",
      "* github:  <a href='http://github.com/andrewgiessel'>@andrewgiessel</a>  \n",
      "* email:   andrew_giessel@hms.harvard.edu  \n",
      "* web:     http://giessel.com  \n",
      "  \n",
      "Postdoctoral fellow at HMS, Datta Lab, http://dattalab.org\n",
      "\n",
      "Plug:  See my talk tomorrow!"
     ]
    },
    {
     "cell_type": "heading",
     "level": 4,
     "metadata": {},
     "source": [
      "What do I use NumPy for?"
     ]
    },
    {
     "cell_type": "markdown",
     "metadata": {},
     "source": [
      "* images and image series  \n",
      "\n",
      "<img src='files/neurons.tiff', height='512'>  \n",
      "  \n",
      "\n",
      "* electrophysiology data  \n",
      "\n",
      "INSERT TRACE HERE  \n",
      "  \n",
      "  \n",
      "* data analysis  \n",
      "<img src='files/marked_neurons.png', width='512'><img src='files/IAA_pca.png', width='512')  \n",
      "\n",
      "* simultations  \n",
      "ODE/PDE models and their data"
     ]
    },
    {
     "cell_type": "heading",
     "level": 2,
     "metadata": {},
     "source": [
      "1. Core data structure:  np.ndarray"
     ]
    },
    {
     "cell_type": "markdown",
     "metadata": {},
     "source": [
      "* contigious block of memory which stores a collection of data (generally numeric)\n",
      "  * compact memory representation--- not a list of pointers to python objects (ints)\n",
      "\n",
      "<img src=\"files/linear_memory.png\">\n",
      "\n",
      "* each element of the collection has the same data type (signed integer, floats, unsigned integers, booleans)\n",
      "* array is a python object which is a *view* on this section of memory\n",
      "\n",
      "<img src=\"files/ndarray.png\">\n",
      "\n",
      "* Attributes\n",
      "  * data - memory location\n",
      "  * shape - size of each dimension (3,3)\n",
      "  * strides - how to move in memory for each dimension (row to row, column to column) (3, 1)\n",
      "  * dtype - data type of the elements - affects the size of the stride and the shape"
     ]
    },
    {
     "cell_type": "markdown",
     "metadata": {},
     "source": [
      "* The ndarray object allows for different views (sub sections, reshaping, transposition, etc) without actually changing anything in memory- just the interpretation of the stored memory changes.\n",
      "\n",
      "* All interfaces with this data structure are written in C and accessing/modifying the data structures are therefore **fast**"
     ]
    },
    {
     "cell_type": "heading",
     "level": 2,
     "metadata": {},
     "source": [
      "2. Array construction"
     ]
    },
    {
     "cell_type": "code",
     "collapsed": false,
     "input": [
      "import numpy as np"
     ],
     "language": "python",
     "metadata": {},
     "outputs": []
    },
    {
     "cell_type": "code",
     "collapsed": false,
     "input": [
      "# np.array() - takes a list or tuple and makes an array.  core creation function\n",
      "a = np.array([1, 2, 3, 4, 5])\n",
      "a"
     ],
     "language": "python",
     "metadata": {},
     "outputs": [
      {
       "output_type": "pyout",
       "prompt_number": 30,
       "text": [
        "array([1, 2, 3, 4, 5])"
       ]
      }
     ],
     "prompt_number": 30
    },
    {
     "cell_type": "code",
     "collapsed": false,
     "input": [
      "b = np.array([[5.,6.,7.],[8.,9.,10.]])\n",
      "print b"
     ],
     "language": "python",
     "metadata": {},
     "outputs": [
      {
       "output_type": "stream",
       "stream": "stdout",
       "text": [
        "[[  5.   6.   7.]\n",
        " [  8.   9.  10.]]\n"
       ]
      }
     ],
     "prompt_number": 17
    },
    {
     "cell_type": "code",
     "collapsed": false,
     "input": [
      "plt.figure()\n",
      "plt.plot(a, 'o', ls='')\n",
      "\n",
      "plt.figure()\n",
      "plt.imshow(b)\n",
      "plt.colorbar()"
     ],
     "language": "python",
     "metadata": {},
     "outputs": [
      {
       "output_type": "pyout",
       "prompt_number": 23,
       "text": [
        "<matplotlib.colorbar.Colorbar instance at 0x111e5e200>"
       ]
      },
      {
       "output_type": "display_data",
       "png": "[encoded data removed]"
      },
      {
       "output_type": "display_data",
       "png": "[encoded data removed]"
      }
     ],
     "prompt_number": 23
    },
    {
     "cell_type": "code",
     "collapsed": false,
     "input": [
      "# np.arange() - works like range()\n",
      "np.arange(5)"
     ],
     "language": "python",
     "metadata": {},
     "outputs": [
      {
       "output_type": "pyout",
       "prompt_number": 26,
       "text": [
        "array([0, 1, 2, 3, 4])"
       ]
      }
     ],
     "prompt_number": 26
    },
    {
     "cell_type": "code",
     "collapsed": false,
     "input": [
      "np.arange(2,30,4) # 2 to 30, every 4th value"
     ],
     "language": "python",
     "metadata": {},
     "outputs": [
      {
       "output_type": "pyout",
       "prompt_number": 27,
       "text": [
        "array([ 2,  6, 10, 14, 18, 22, 26])"
       ]
      }
     ],
     "prompt_number": 27
    },
    {
     "cell_type": "code",
     "collapsed": false,
     "input": [
      "# np.zeros(), np.ones(), np.empty() - take a tuple, each entry is the size in that dimension\n",
      "qwer = np.zeros((4,10))\n",
      "asdf = np.ones((15,2))\n",
      "zxcv = np.empty((5))\n",
      "qwer, asdf, zxcv"
     ],
     "language": "python",
     "metadata": {},
     "outputs": [
      {
       "output_type": "pyout",
       "prompt_number": 35,
       "text": [
        "(array([[ 0.,  0.,  0.,  0.,  0.,  0.,  0.,  0.,  0.,  0.],\n",
        "       [ 0.,  0.,  0.,  0.,  0.,  0.,  0.,  0.,  0.,  0.],\n",
        "       [ 0.,  0.,  0.,  0.,  0.,  0.,  0.,  0.,  0.,  0.],\n",
        "       [ 0.,  0.,  0.,  0.,  0.,  0.,  0.,  0.,  0.,  0.]]),\n",
        " array([[ 1.,  1.],\n",
        "       [ 1.,  1.],\n",
        "       [ 1.,  1.],\n",
        "       [ 1.,  1.],\n",
        "       [ 1.,  1.],\n",
        "       [ 1.,  1.],\n",
        "       [ 1.,  1.],\n",
        "       [ 1.,  1.],\n",
        "       [ 1.,  1.],\n",
        "       [ 1.,  1.],\n",
        "       [ 1.,  1.],\n",
        "       [ 1.,  1.],\n",
        "       [ 1.,  1.],\n",
        "       [ 1.,  1.],\n",
        "       [ 1.,  1.]]),\n",
        " array([ -2.31584178e+077,  -2.00000013e+000,   2.12274051e-314,\n",
        "         2.27094275e-314,   2.13292407e-314]))"
       ]
      }
     ],
     "prompt_number": 35
    },
    {
     "cell_type": "code",
     "collapsed": false,
     "input": [
      "# np.zeros_like(), np.ones_like(), np.empty_like() - take their shape from what you pass in\n",
      "# note that this also uses the datatype of the array, as well\n",
      "qwer2 = ones_like(qwer)\n",
      "qwer, qwer2"
     ],
     "language": "python",
     "metadata": {},
     "outputs": [
      {
       "output_type": "pyout",
       "prompt_number": 96,
       "text": [
        "(array([ 0.1,  0.2,  0.3,  0.4,  0.5]), array([ 1.,  1.,  1.,  1.,  1.]))"
       ]
      }
     ],
     "prompt_number": 96
    },
    {
     "cell_type": "heading",
     "level": 4,
     "metadata": {},
     "source": [
      "see also:  np.tile(), np.r_(), np.c_(), np.linspace(), np.random.rand(), np.random.randn(), np.fromfunction(), np.fromfile()"
     ]
    },
    {
     "cell_type": "heading",
     "level": 2,
     "metadata": {},
     "source": [
      "3. Arrray Indexing, Manipulation and Attributes"
     ]
    },
    {
     "cell_type": "heading",
     "level": 3,
     "metadata": {},
     "source": [
      "3.1 Array Indexing"
     ]
    },
    {
     "cell_type": "markdown",
     "metadata": {},
     "source": [
      "Indexing is pythonic and very similar to lists- for a review of slice indexing of strings (and lists) here:  \n",
      "\n",
      "http://docs.python.org/2/tutorial/introduction.html#strings\n",
      "\n",
      "In sort, they are accessed like lists, using slices for each dimension.  Like lists and strings, they use 0-based indexing."
     ]
    },
    {
     "cell_type": "code",
     "collapsed": false,
     "input": [
      "asdf = np.random.random((10,10))\n",
      "plt.imshow(asdf)\n",
      "plt.colorbar()\n",
      "asdf[0,0]"
     ],
     "language": "python",
     "metadata": {},
     "outputs": [
      {
       "output_type": "pyout",
       "prompt_number": 83,
       "text": [
        "0.30990696672336293"
       ]
      },
      {
       "output_type": "display_data",
       "png": "[encoded data removed]"
      }
     ],
     "prompt_number": 83
    },
    {
     "cell_type": "code",
     "collapsed": false,
     "input": [
      "# and assignment obviously works\n",
      "asdf[0,0] = 1.0\n",
      "plt.imshow(asdf)\n",
      "plt.colorbar()"
     ],
     "language": "python",
     "metadata": {},
     "outputs": [
      {
       "output_type": "pyout",
       "prompt_number": 84,
       "text": [
        "<matplotlib.colorbar.Colorbar instance at 0x111d0f950>"
       ]
      },
      {
       "output_type": "display_data",
       "png": "[encoded data removed]"
      }
     ],
     "prompt_number": 84
    },
    {
     "cell_type": "code",
     "collapsed": false,
     "input": [
      "# using slices to get part of an array\n",
      "# the notation is start:stop:interval, once for each dimension\n",
      "# if you leave off a slice, numpy assumes you mean all of the remaining dimensions\n",
      "\n",
      "asdf = np.arange(10)\n",
      "asdf2 = np.arange(25).reshape(5,5)\n",
      "\n",
      "asdf, asdf2"
     ],
     "language": "python",
     "metadata": {},
     "outputs": [
      {
       "output_type": "pyout",
       "prompt_number": 65,
       "text": [
        "(array([0, 1, 2, 3, 4, 5, 6, 7, 8, 9]),\n",
        " array([[ 0,  1,  2,  3,  4],\n",
        "       [ 5,  6,  7,  8,  9],\n",
        "       [10, 11, 12, 13, 14],\n",
        "       [15, 16, 17, 18, 19],\n",
        "       [20, 21, 22, 23, 24]]))"
       ]
      }
     ],
     "prompt_number": 65
    },
    {
     "cell_type": "code",
     "collapsed": false,
     "input": [
      "# a single : means the whole dimension, and is greedy and implicit\n",
      "print asdf[:] # all of 1st dim\n",
      "print asdf\n",
      "print '-------'\n",
      "print asdf2[3,:] # 4th row, all of 2nd dim\n",
      "print asdf2[:, 3] # 4th column, all the rows\n",
      "print asdf2[:3, 3:5]"
     ],
     "language": "python",
     "metadata": {},
     "outputs": [
      {
       "output_type": "stream",
       "stream": "stdout",
       "text": [
        "[0 1 2 3 4 5 6 7 8 9]\n",
        "[0 1 2 3 4 5 6 7 8 9]\n",
        "-------\n",
        "[15 16 17 18 19]\n",
        "[ 3  8 13 18 23]\n",
        "[[ 3  4]\n",
        " [ 8  9]\n",
        " [13 14]]\n"
       ]
      }
     ],
     "prompt_number": 77
    },
    {
     "cell_type": "heading",
     "level": 3,
     "metadata": {},
     "source": [
      "3.2 Iterating over NumPy arrays"
     ]
    },
    {
     "cell_type": "markdown",
     "metadata": {},
     "source": [
      "It should be noted that iterating over NumPy arrays can in many cases be avoided all together (see below).  But they are iterators, and return slices of the array relative to the first axis.  If 1d, this is much like a list"
     ]
    },
    {
     "cell_type": "code",
     "collapsed": false,
     "input": [
      "for item in np.array([1,3,5,7,9]):\n",
      "    print item"
     ],
     "language": "python",
     "metadata": {},
     "outputs": [
      {
       "output_type": "stream",
       "stream": "stdout",
       "text": [
        "1\n",
        "3\n",
        "5\n",
        "7\n",
        "9\n"
       ]
      }
     ],
     "prompt_number": 78
    },
    {
     "cell_type": "code",
     "collapsed": false,
     "input": [
      "asdf2 = np.random.random((2,10))\n",
      "for i in asdf2:\n",
      "    print i"
     ],
     "language": "python",
     "metadata": {},
     "outputs": [
      {
       "output_type": "stream",
       "stream": "stdout",
       "text": [
        "[ 0.27949342  0.30713344  0.71482902  0.39406942  0.08416304  0.87720255\n",
        "  0.96001762  0.20597513  0.96959269  0.0306762 ]\n",
        "[ 0.18373652  0.3461168   0.78175543  0.49201466  0.38309097  0.98663938\n",
        "  0.43917287  0.33533583  0.8104783   0.58195795]\n"
       ]
      }
     ],
     "prompt_number": 79
    },
    {
     "cell_type": "code",
     "collapsed": false,
     "input": [
      "# we can temporarily switch the axis to iterate over with np.rollaxis(), see below\n",
      "# alternatively you can get the shape of the array and use those as loop variables."
     ],
     "language": "python",
     "metadata": {},
     "outputs": [],
     "prompt_number": 80
    },
    {
     "cell_type": "heading",
     "level": 3,
     "metadata": {},
     "source": [
      "3.3 Array Attributes\n",
      "\n",
      "\n"
     ]
    },
    {
     "cell_type": "markdown",
     "metadata": {},
     "source": [
      "ndarrays have many methods and attributes.  Of particular note here .shape, .dtype, and .ndim"
     ]
    },
    {
     "cell_type": "code",
     "collapsed": false,
     "input": [
      "asdf = np.arange(25).reshape(5,5)\n",
      "\n",
      "print asdf.shape  # tuple of dimension sizes, I use this one constantly\n",
      "print asdf.ndim   # equal to len(asdf.shape)\n",
      "print asdf.dtype  # default on my platform is 64bit int\n",
      "print asdf.size   # total number of elements in the array"
     ],
     "language": "python",
     "metadata": {},
     "outputs": [
      {
       "output_type": "stream",
       "stream": "stdout",
       "text": [
        "(5, 5)\n",
        "2\n",
        "int64\n",
        "25\n"
       ]
      }
     ],
     "prompt_number": 139
    },
    {
     "cell_type": "heading",
     "level": 3,
     "metadata": {},
     "source": [
      "3.4 Array Manipulation"
     ]
    },
    {
     "cell_type": "markdown",
     "metadata": {},
     "source": [
      "There are many routines to manipulate and alter properties of NumPy arrays.  Many are methods on ndarrays, and some are redundently defined as module level NumPy functions.  Here are a handful of the ones I end up using the most."
     ]
    },
    {
     "cell_type": "code",
     "collapsed": false,
     "input": [
      "# .copy() - return a copy of an array, not a view.  also is a method on an ndarray object\n",
      "asdf = np.array([1,2,3,4])\n",
      "qwer = asdf.copy()  # or - np.copy(asdf)\n",
      "qwer[0] = 99\n",
      "\n",
      "asdf, qwer"
     ],
     "language": "python",
     "metadata": {},
     "outputs": [
      {
       "output_type": "pyout",
       "prompt_number": 100,
       "text": [
        "(array([1, 2, 3, 4]), array([99,  2,  3,  4]))"
       ]
      }
     ],
     "prompt_number": 100
    },
    {
     "cell_type": "code",
     "collapsed": false,
     "input": [
      "# .reshape() - takes an array and a tuple of the new size to change that array to\n",
      "# and returns a view on the *same array*\n",
      "\n",
      "asdf = np.array([1,2,3,4])\n",
      "print asdf\n",
      "\n",
      "qwer = asdf.reshape((2,2))\n",
      "print qwer\n",
      "\n",
      "qwer[0,0] = 9\n",
      "print asdf"
     ],
     "language": "python",
     "metadata": {},
     "outputs": [
      {
       "output_type": "stream",
       "stream": "stdout",
       "text": [
        "[1 2 3 4]\n",
        "[[1 2]\n",
        " [3 4]]\n",
        "[9 2 3 4]\n"
       ]
      }
     ],
     "prompt_number": 90
    },
    {
     "cell_type": "code",
     "collapsed": false,
     "input": [
      "# .astype() - casting method, can use built-in data types, a host of datatypes includined in NumPy, or strings\n",
      "asdf = np.array([0,1,2,3,4])\n",
      "print asdf.astype(float)\n",
      "print asdf.astype(bool) # 0 is False, >0 is True\n",
      "\n",
      "qwer = np.array([0.1,0.2,0.3,0.4,0.5])\n",
      "print qwer.astype(int) # note the floor \n",
      "\n",
      "zxcv = np.array([-4,-3,-2,-1,0,1,2,3,4]).astype('uint16')\n",
      "zxcv # note wraparound\n",
      "\n",
      "# finally, note that astype() returns a casted COPY of the array"
     ],
     "language": "python",
     "metadata": {},
     "outputs": [
      {
       "output_type": "stream",
       "stream": "stdout",
       "text": [
        "[ 0.  1.  2.  3.  4.]\n",
        "[False  True  True  True  True]\n",
        "[0 0 0 0 0]\n"
       ]
      },
      {
       "output_type": "pyout",
       "prompt_number": 99,
       "text": [
        "array([65532, 65533, 65534, 65535,     0,     1,     2,     3,     4], dtype=uint16)"
       ]
      }
     ],
     "prompt_number": 99
    },
    {
     "cell_type": "markdown",
     "metadata": {},
     "source": [
      "For more info about data types in NumPy see: http://docs.scipy.org/doc/numpy/reference/arrays.dtypes.html"
     ]
    },
    {
     "cell_type": "code",
     "collapsed": false,
     "input": [
      "# np.roll() - rotate the data along a given axis, returns a copy\n",
      "asdf = np.array([1,2,3,4])\n",
      "qwer = np.roll(asdf, 1)\n",
      "\n",
      "print asdf, qwer\n",
      "print '----------'\n",
      "asdf = asdf.reshape((2,2))\n",
      "qwer1 = np.roll(asdf, 1, axis=0)\n",
      "qwer2 = np.roll(asdf, 1, axis=1)\n",
      "print asdf\n",
      "print qwer1\n",
      "print qwer2"
     ],
     "language": "python",
     "metadata": {},
     "outputs": [
      {
       "output_type": "stream",
       "stream": "stdout",
       "text": [
        "[1 2 3 4] [4 1 2 3]\n",
        "----------\n",
        "[[1 2]\n",
        " [3 4]]\n",
        "[[3 4]\n",
        " [1 2]]\n",
        "[[2 1]\n",
        " [4 3]]\n"
       ]
      }
     ],
     "prompt_number": 114
    },
    {
     "cell_type": "code",
     "collapsed": false,
     "input": [
      "# .T - transpose method on an ndarray, returns a view on the original array\n",
      "# unlike the others listed here, this is an attribute, not a method\n",
      "asdf = np.arange(25).reshape(5,5)\n",
      "print asdf\n",
      "print asdf.T\n",
      "\n",
      "print asdf.T[4,0]\n",
      "asdf.T[4,0] = 99\n",
      "print asdf[4,0]"
     ],
     "language": "python",
     "metadata": {},
     "outputs": [
      {
       "output_type": "stream",
       "stream": "stdout",
       "text": [
        "[[ 0  1  2  3  4]\n",
        " [ 5  6  7  8  9]\n",
        " [10 11 12 13 14]\n",
        " [15 16 17 18 19]\n",
        " [20 21 22 23 24]]\n",
        "[[ 0  5 10 15 20]\n",
        " [ 1  6 11 16 21]\n",
        " [ 2  7 12 17 22]\n",
        " [ 3  8 13 18 23]\n",
        " [ 4  9 14 19 24]]\n",
        "4\n",
        "20\n"
       ]
      }
     ],
     "prompt_number": 122
    },
    {
     "cell_type": "code",
     "collapsed": false,
     "input": [
      "# np.rollaxis() - reorder axes in an array, returning a view\n",
      "# takes an array, the axis to reorder, and the position to roll before.\n",
      "# the relative order of the other axes are not changed\n",
      "\n",
      "asdf = np.zeros((2,3,4))\n",
      "qwer = np.rollaxis(asdf, 2, 0)\n",
      "print asdf.shape, qwer.shape\n",
      "print '---------'\n",
      "qwer[0,0,0] = 1\n",
      "print asdf"
     ],
     "language": "python",
     "metadata": {},
     "outputs": [
      {
       "output_type": "stream",
       "stream": "stdout",
       "text": [
        "(2, 3, 4) (4, 2, 3)\n",
        "---------\n",
        "[[[ 1.  0.  0.  0.]\n",
        "  [ 0.  0.  0.  0.]\n",
        "  [ 0.  0.  0.  0.]]\n",
        "\n",
        " [[ 0.  0.  0.  0.]\n",
        "  [ 0.  0.  0.  0.]\n",
        "  [ 0.  0.  0.  0.]]]\n"
       ]
      }
     ],
     "prompt_number": 131
    },
    {
     "cell_type": "code",
     "collapsed": false,
     "input": [
      "# note that we can use rollaxis with iteration to get a slices of an array in a given dimension\n",
      "# simply roll that axes to the start\n",
      "\n",
      "asdf = np.zeros((2,3,4))\n",
      "for array_slice in np.rollaxis(asdf,2,0):\n",
      "    print array_slice.shape"
     ],
     "language": "python",
     "metadata": {},
     "outputs": [
      {
       "output_type": "stream",
       "stream": "stdout",
       "text": [
        "(2, 3)\n",
        "(2, 3)\n",
        "(2, 3)\n",
        "(2, 3)\n"
       ]
      }
     ],
     "prompt_number": 128
    },
    {
     "cell_type": "code",
     "collapsed": false,
     "input": [
      "# np.unique() - like set, but for ndarrays:\n",
      "asdf = np.array([1,1,3,4,5,0])\n",
      "print np.unique(asdf)"
     ],
     "language": "python",
     "metadata": {},
     "outputs": [
      {
       "output_type": "stream",
       "stream": "stdout",
       "text": [
        "[0 1 3 4 5]\n"
       ]
      }
     ],
     "prompt_number": 129
    },
    {
     "cell_type": "code",
     "collapsed": false,
     "input": [
      "# .flatten() - return a copy of an multidimensional array flattened into one dimension\n",
      "asdf = np.arange(25).reshape(5,5)\n",
      "qwer = asdf.flatten()\n",
      "\n",
      "asdf, qwer"
     ],
     "language": "python",
     "metadata": {},
     "outputs": [
      {
       "output_type": "pyout",
       "prompt_number": 133,
       "text": [
        "(array([[ 0,  1,  2,  3,  4],\n",
        "       [ 5,  6,  7,  8,  9],\n",
        "       [10, 11, 12, 13, 14],\n",
        "       [15, 16, 17, 18, 19],\n",
        "       [20, 21, 22, 23, 24]]),\n",
        " array([ 0,  1,  2,  3,  4,  5,  6,  7,  8,  9, 10, 11, 12, 13, 14, 15, 16,\n",
        "       17, 18, 19, 20, 21, 22, 23, 24]))"
       ]
      }
     ],
     "prompt_number": 133
    },
    {
     "cell_type": "code",
     "collapsed": false,
     "input": [
      "# .tolist() - convert an ndarray to a list - works for multidimensonial arrays\n",
      "asdf = np.arange(25).reshape(5,5)\n",
      "print asdf.tolist()"
     ],
     "language": "python",
     "metadata": {},
     "outputs": [
      {
       "output_type": "stream",
       "stream": "stdout",
       "text": [
        "[[0, 1, 2, 3, 4], [5, 6, 7, 8, 9], [10, 11, 12, 13, 14], [15, 16, 17, 18, 19], [20, 21, 22, 23, 24]]\n"
       ]
      }
     ],
     "prompt_number": 138
    },
    {
     "cell_type": "heading",
     "level": 2,
     "metadata": {},
     "source": [
      "4. Array based Calcuations"
     ]
    },
    {
     "cell_type": "markdown",
     "metadata": {},
     "source": [
      "+/-///*  * is product not matrix product\n",
      "\n",
      "a note on broadcasting\n",
      "\n",
      "axis keyword!\n",
      "\n",
      "sum\n",
      "mean\n",
      "std\n",
      "min\n",
      "max\n",
      "argmin\n",
      "argmax\n",
      "abs\n",
      "ceil/floor/round\n",
      "dot\n",
      "exp\n",
      "power\n",
      "log\n",
      "median\n",
      "diff\n",
      "integrate  (scipy.integrate module for integration)\n",
      "\n",
      "axis "
     ]
    },
    {
     "cell_type": "heading",
     "level": 2,
     "metadata": {},
     "source": [
      "5. Advanced Indexing and other NumPy built-ins"
     ]
    },
    {
     "cell_type": "markdown",
     "metadata": {},
     "source": [
      "boolean indexing\n",
      "argwhere\n",
      "logical_and/or/not/xor\n",
      "buidling indexes\n",
      "  mgrid\n",
      "  ix_\n",
      "  upper tri\n",
      "\n",
      "\n",
      "other builtins\n",
      "\n",
      "hstack, hsplit\n",
      "vstack, vsplit\n",
      "dstack, dsplit\n",
      "\n",
      "concatenate\n",
      "\n",
      "atleast_2d, 3d\n",
      "histogram\n",
      "genfromtxt()\n",
      "isnan\n",
      "isreal\n",
      "isinf"
     ]
    },
    {
     "cell_type": "heading",
     "level": 2,
     "metadata": {},
     "source": [
      "6. Other NumPy libraries"
     ]
    },
    {
     "cell_type": "heading",
     "level": 3,
     "metadata": {},
     "source": [
      "6.1 Random  "
     ]
    },
    {
     "cell_type": "markdown",
     "metadata": {},
     "source": [
      "\n",
      "random numbers  \n",
      "x = np.random.normal(0,1,size=512)  \n",
      "plt.hist(x)  "
     ]
    },
    {
     "cell_type": "heading",
     "level": 3,
     "metadata": {},
     "source": [
      "6.2 Linear Algebra\n",
      "\n"
     ]
    },
    {
     "cell_type": "markdown",
     "metadata": {},
     "source": [
      "\n",
      " solve for Ax = b  \n",
      "A = np.array([[1,2], [-1,1]])  \n",
      "b = np.array([1,1])  \n",
      "x = np.linalg.solve(A,b)  \n"
     ]
    },
    {
     "cell_type": "heading",
     "level": 3,
     "metadata": {},
     "source": [
      "6.3 FFT"
     ]
    },
    {
     "cell_type": "heading",
     "level": 3,
     "metadata": {},
     "source": [
      "6.4 Polynomials"
     ]
    },
    {
     "cell_type": "markdown",
     "metadata": {},
     "source": [
      "\n",
      "fitting  \n",
      "object  \n",
      "  roots, evaluate  \n",
      "  np.poly  \n",
      "  np.polyfit  \n",
      "  np.polyval  "
     ]
    },
    {
     "cell_type": "heading",
     "level": 2,
     "metadata": {},
     "source": [
      "7. Other resources"
     ]
    },
    {
     "cell_type": "code",
     "collapsed": false,
     "input": [],
     "language": "python",
     "metadata": {},
     "outputs": []
    }
   ],
   "metadata": {}
  }
 ]
}